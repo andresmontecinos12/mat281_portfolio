{
 "cells": [
  {
   "cell_type": "markdown",
   "metadata": {},
   "source": [
    "# Proyecto\n",
    "\n",
    "## Instrucciones\n",
    "\n",
    "1.- Completa los datos personales (nombre y rol USM) de cada integrante en siguiente celda.\n"
   ]
  },
  {
   "cell_type": "markdown",
   "metadata": {
    "Collapsed": "false"
   },
   "source": [
    "* __Nombre-Rol__:\n",
    "\n",
    " * Andrés Montecinos 201204515-0 \n",
    " \n",
    " * Pedro Paillalef   201304686-k\n",
    " "
   ]
  },
  {
   "cell_type": "markdown",
   "metadata": {},
   "source": [
    "2.- Debes _pushear_ este archivo con tus cambios a tu repositorio personal del curso, incluyendo datos, imágenes, scripts, etc.\n",
    "\n",
    "3.- Se evaluará:\n",
    "    - Soluciones\n",
    "    - Código\n",
    "    - Que Binder esté bien configurado.\n",
    "    - Al presionar  `Kernel -> Restart Kernel and Run All Cells` deben ejecutarse todas las celdas sin error."
   ]
  },
  {
   "cell_type": "markdown",
   "metadata": {},
   "source": [
    "## I.- Sistemas de recomendación\n",
    "\n",
    "\n",
    "\n",
    "![rgb](https://i.kinja-img.com/gawker-media/image/upload/s--e3_2HgIC--/c_scale,f_auto,fl_progressive,q_80,w_800/1259003599478673704.jpg)\n",
    "\n",
    "### Introducción\n",
    "\n",
    "El rápido crecimiento de la recopilación de datos ha dado lugar a una nueva era de información. Los datos se están utilizando para crear sistemas más eficientes y aquí es donde entran en juego los sistemas de recomendación. Los sistemas de recomendación son un tipo de sistemas de filtrado de información, ya que mejoran la calidad de los resultados de búsqueda y proporcionan elementos que son más relevantes para el elemento de búsqueda o están relacionados con el historial de búsqueda del usuario.\n",
    "\n",
    "Se utilizan para predecir la calificación o preferencia que un usuario le daría a un artículo. Casi todas las grandes empresas de tecnología los han aplicado de una forma u otra: Amazon lo usa para sugerir productos a los clientes, YouTube lo usa para decidir qué video reproducir a continuación en reproducción automática y Facebook lo usa para recomendar páginas que me gusten y personas a seguir. Además, empresas como Netflix y Spotify dependen en gran medida de la efectividad de sus motores de recomendación para sus negocios y éxitos."
   ]
  },
  {
   "cell_type": "markdown",
   "metadata": {},
   "source": [
    "### Objetivos\n",
    "\n",
    "Poder realizar un proyecto de principio a fin ocupando todos los conocimientos aprendidos en clase.  Para ello deben cumplir con los siguientes objetivos:\n",
    "\n",
    "* **Desarrollo del problema**: Se les pide a partir de los datos, proponer al menos un tipo de sistemas de recomendación. Como todo buen proyecto de Machine Learning deben seguir el siguiente procedimiento:\n",
    " * **Lectura de los datos**: Describir el o los conjunto de datos en estudio.\n",
    " * **Procesamiento de los datos**: Procesar adecuadamente los datos en estudio. Para este caso ocuparan técnicas de [NLP](https://en.wikipedia.org/wiki/Natural_language_processing).\n",
    " * **Metodología**: Describir adecuadamente el procedimiento ocupado en cada uno de los modelos ocupados.\n",
    " * **Resultados**: Evaluar adecuadamente cada una de las métricas propuesta en este tipo de problemas.\n",
    " \n",
    " \n",
    "* **Presentación**: La presentación será levemente distinta a las anteriores, puesto que deberán ocupar la herramienta de Jupyter llamada [RISE](https://en.wikipedia.org/wiki/Natural_language_processing). Esta presentación debe durar aproximadamente entre 15-30 minutos, y deberán mandar sus videos (por youtube, google drive, etc.)\n",
    "\n",
    "### Evaluación\n",
    "\n",
    "* **Códigos**: Los códigos deben estar correctamente documentados (ocupando las *buenas prácticas* de python aprendidas en este curso).\n",
    "* **Explicación**: La explicación de la metodología empleada debe ser clara, precisa y concisa.\n",
    "* **Apoyo Visual**: Se espera que tengan la mayor cantidad de gráficos y/o tablas que puedan resumir adecuadamente todo el proceso realizado.\n",
    "\n",
    "\n",
    "\n",
    " \n"
   ]
  },
  {
   "cell_type": "markdown",
   "metadata": {},
   "source": [
    "### Esquema del proyecto\n",
    "\n",
    "El proyecto tendrá la siguiente estructura de trabajo:"
   ]
  },
  {
   "cell_type": "markdown",
   "metadata": {},
   "source": [
    "```\n",
    "- project\n",
    "|\n",
    "|- data\n",
    "    |- tmdb_5000_credits.csv\n",
    "    |- tmdb_5000_movies.csv\n",
    "    |-ratings_small.csv\n",
    "|-imagenes\n",
    "    |-Collaborative_filter.png\n",
    "    |-esquema.jpeg\n",
    "    |-etapa.jpeg\n",
    "    |-etapa1.jpeg\n",
    "    |-etapa2.jpeg\n",
    "    |-etapa3.jpeg\n",
    "    |-etapa4.jpeg\n",
    "    |-etapa5.jpeg\n",
    "    |-filtro_colaborativo.jpeg\n",
    "    |-filtro_contenido.jpeg\n",
    "    |-matriz_coseno.jpeg\n",
    "    |-populares.hpeg\n",
    "    |-quever.jpeg\n",
    "    |-recome1.jpeg\n",
    "    |-recome2.jpeg\n",
    "    |-siste.jpeg\n",
    "    |-tipo_filtro.jpeg\n",
    "    |-ventajas_desventajas.jpeg\n",
    "|- graficos.py\n",
    "|- lectura.py\n",
    "|- modelos.py\n",
    "|- preprocesamiento.py\n",
    "|- presentacion.ipynb\n",
    "|- project.ipynb\n",
    "|-fondo.jpeg\n",
    "|-metrics_regression.py\n",
    "\n",
    "```"
   ]
  },
  {
   "cell_type": "markdown",
   "metadata": {},
   "source": [
    "donde:\n",
    "\n",
    "* `data`: carpeta con los datos del proyecto\n",
    "* `graficos.py`: módulo de gráficos \n",
    "* `lectura.py`: módulo de lectura de datos\n",
    "* `modelos.py`: módulo de modelos de Machine Learning utilizados\n",
    "* `preprocesamiento.py`: módulo de preprocesamiento de datos\n",
    "* `presentacion.ipynb`: presentación del proyecto (formato *RISE*)\n",
    "* `project.ipynb`: descripción del proyecto\n",
    "* `imagenes`: imagenes complementarias para la presentación\n",
    "* `metrics_regression.py`: metricas asociadas a problemas de regresión"
   ]
  },
  {
   "cell_type": "code",
   "execution_count": null,
   "metadata": {},
   "outputs": [],
   "source": []
  }
 ],
 "metadata": {
  "kernelspec": {
   "display_name": "Python 3",
   "language": "python",
   "name": "python3"
  },
  "language_info": {
   "codemirror_mode": {
    "name": "ipython",
    "version": 3
   },
   "file_extension": ".py",
   "mimetype": "text/x-python",
   "name": "python",
   "nbconvert_exporter": "python",
   "pygments_lexer": "ipython3",
   "version": "3.8.3"
  }
 },
 "nbformat": 4,
 "nbformat_minor": 4
}
