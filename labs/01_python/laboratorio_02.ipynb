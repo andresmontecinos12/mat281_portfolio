{
 "cells": [
  {
   "cell_type": "markdown",
   "metadata": {},
   "source": [
    "<img src=\"images/usm.jpg\" width=\"480\" height=\"240\" align=\"left\"/>"
   ]
  },
  {
   "cell_type": "markdown",
   "metadata": {},
   "source": [
    "# MAT281 - Laboratorio N°02\n",
    "\n",
    "## Objetivos de la clase\n",
    "\n",
    "* Reforzar los conceptos básicos de numpy."
   ]
  },
  {
   "cell_type": "markdown",
   "metadata": {},
   "source": [
    "## Contenidos\n",
    "\n",
    "* [Problema 01](#p1)\n",
    "* [Problema 02](#p2)\n",
    "* [Problema 03](#p3)"
   ]
  },
  {
   "cell_type": "markdown",
   "metadata": {},
   "source": [
    "<a id='p1'></a>\n",
    "\n",
    "## Problema 01\n",
    "\n",
    "Una **media móvil simple** (SMA) es el promedio de los últimos $k$ datos anteriores, es decir, sea $a_1$,$a_2$,...,$a_n$ un arreglo $n$-dimensional, entonces la SMA se define por:\n",
    "\n",
    "$$\\displaystyle sma(k) =\\dfrac{1}{k}(a_{n}+a_{n-1}+...+a_{n-(k-1)}) = \\dfrac{1}{k}\\sum_{i=0}^{k-1}a_{n-i}  $$ \n",
    "\n",
    "\n",
    "Por otro lado podemos definir el SMA con una venta móvil de $n$ si el resultado nos retorna la el promedio ponderado avanzando de la siguiente forma:\n",
    "\n",
    "* $a = [1,2,3,4,5]$, la SMA con una ventana de $n=2$ sería:\n",
    " * sma(2) = [promedio(1,2), promedio(2,3), promedio(3,4), promedio(4,5)] = [1.5, 2.5, 3.5, 4.5]\n",
    "\n",
    "\n",
    "* $a = [1,2,3,4,5]$, la SMA con una ventana de $n=3$ sería:\n",
    " * sma(3) = [promedio(1,2,3), promedio(2,3,4), promedio(3,4,5)] = [2.,3.,4.]\n",
    "\n",
    "\n",
    "Implemente una función llamada `sma` cuyo input sea un arreglo unidimensional $a$ y un entero $n$, y cuyo ouput retorne el valor de la media móvil simple sobre el arreglo de la siguiente forma:\n",
    "\n",
    "* **Ejemplo**: *sma([5,3,8,10,2,1,5,1,0,2], 2)* = $[4. , 5.5, 9. , 6. , 1.5, 3. , 3. , 0.5, 1. ]$\n",
    "\n",
    "En este caso, se esta calculando el SMA para un arreglo con una ventana de $n=2$.\n",
    "\n",
    "**Hint**: utilice la función `numpy.cumsum`"
   ]
  },
  {
   "cell_type": "code",
   "execution_count": 228,
   "metadata": {},
   "outputs": [],
   "source": [
    "# importar librerias\n",
    "import numpy as np "
   ]
  },
  {
   "cell_type": "markdown",
   "metadata": {},
   "source": [
    "### Definir Función"
   ]
  },
  {
   "cell_type": "code",
   "execution_count": 229,
   "metadata": {},
   "outputs": [],
   "source": [
    "def sma(a,n):\n",
    "    \"\"\"\n",
    "    sma(a,n)\n",
    "\n",
    "    Una media móvil simple (SMA) es el promedio de los últimos  𝑘  \n",
    "    datos anteriores, es decir, sea  𝑎1 , 𝑎2 ,..., 𝑎𝑛  un arreglo  𝑛 -dimensional,\n",
    "    entonces la SMA se define por:\n",
    "    \n",
    "    𝑠𝑚𝑎(𝑘)=(1/𝑘)(𝑎𝑛+𝑎𝑛−1+...+𝑎𝑛−(𝑘−1))\n",
    "\n",
    "    Parameters\n",
    "    \n",
    "    ----------\n",
    "    a: arreglo unidimensional de entrada\n",
    "    n : ventana móvil a calcular\n",
    "        Numero de terminos.\n",
    "\n",
    "    Returns\n",
    "    -------\n",
    "    output : float\n",
    "        valor de la media móvil\n",
    "        \n",
    "    Examples\n",
    "    --------\n",
    "\n",
    "    >>> sma([5,3,8,10,2,1,5,1,0,2], 2) \n",
    "    [4.,5.5,9.,6.,1.5,3.,3.,0.5,1.]\n",
    "    \n",
    "    \"\"\"\n",
    "    n=n\n",
    "    b=[]                        #lista auxiliar para ir agregando los promedios móviles\n",
    "    for i in range(a.shape[0]-n+1):\n",
    "        c=np.mean(a[i:i+n])    #calcular el promedio por subconjutos\n",
    "        b.append(c)            #agregar promedios a lista creada\n",
    "    return np.array(b)   \n",
    "     \n"
   ]
  },
  {
   "cell_type": "markdown",
   "metadata": {},
   "source": [
    "### Verificar ejemplos"
   ]
  },
  {
   "cell_type": "code",
   "execution_count": 230,
   "metadata": {},
   "outputs": [],
   "source": [
    "# ejemplo 01\n",
    "a = np.array([1,2,3,4,5])\n",
    "\n",
    "np.testing.assert_array_equal(\n",
    "    sma(a, 2),    #window_len\n",
    "    np.array([1.5, 2.5, 3.5, 4.5])\n",
    ")"
   ]
  },
  {
   "cell_type": "code",
   "execution_count": 231,
   "metadata": {},
   "outputs": [],
   "source": [
    "# ejemplo 02\n",
    "a = np.array([5,3,8,10,2,1,5,1,0,2])\n",
    "\n",
    "np.testing.assert_array_equal(\n",
    "    sma(a,2),\n",
    "    np.array([4. , 5.5, 9. , 6. , 1.5, 3. , 3. , 0.5, 1. ])\n",
    ")"
   ]
  },
  {
   "cell_type": "markdown",
   "metadata": {},
   "source": [
    "<a id='p2'></a>\n",
    "\n",
    "## Problema 02\n",
    "\n",
    "La función **strides($a,n,p$)**, corresponde a transformar un arreglo unidimensional $a$ en una matriz de $n$ columnas, en el cual las filas se van construyendo desfasando la posición del arreglo en $p$ pasos hacia adelante.\n",
    "\n",
    "* Para el arreglo unidimensional $a$ = [ 1,  2,  3,  4,  5,  6,  7,  8,  9, 10], la función strides($a,4,2$), corresponde a crear una matriz de $4$ columnas, cuyos desfaces hacia adelante se hacen de dos en dos. \n",
    "\n",
    "El resultado tendría que ser algo así:$$\\begin{pmatrix}\n",
    " 1& 2 &3 &4 \\\\ \n",
    " 3&  4&5&6 \\\\ \n",
    " 5& 6 &7 &8 \\\\ \n",
    " 7& 8 &9 &10 \\\\ \n",
    "\\end{pmatrix}$$\n",
    "\n",
    "\n",
    "Implemente una función llamada `strides(a,n,p)` cuyo input sea:\n",
    "* $a$: un arreglo unidimensional, \n",
    "* $n$: el número de columnas,\n",
    "* $p$: el número de pasos hacia adelante  \n",
    "\n",
    "y retorne la matriz de $n$ columnas, cuyos desfaces hacia adelante se hacen de $p$ en $p$ pasos. \n",
    "\n",
    "* **Ejemplo**: *strides($a$,4,2)* =$\\begin{pmatrix}\n",
    " 1& 2 &3 &4 \\\\ \n",
    " 3&  4&5&6 \\\\ \n",
    " 5& 6 &7 &8 \\\\ \n",
    " 7& 8 &9 &10 \\\\ \n",
    "\\end{pmatrix}$\n"
   ]
  },
  {
   "cell_type": "markdown",
   "metadata": {},
   "source": [
    "### Definir Función"
   ]
  },
  {
   "cell_type": "code",
   "execution_count": 232,
   "metadata": {},
   "outputs": [],
   "source": [
    "def strides(a,n,p):\n",
    "    \n",
    "    \"\"\"\n",
    "    strides(a,n,p)\n",
    "\n",
    "   La función strides( 𝑎,𝑛,𝑝 ), corresponde a transformar un arreglo unidimensional  𝑎  en una matriz de  𝑛  columnas,\n",
    "   en el cual las filas se van construyendo desfasando la posición del arreglo en  𝑝  pasos hacia adelante.\n",
    "    \n",
    "\n",
    "    Parameters\n",
    "    \n",
    "    ----------\n",
    "    a: arreglo unidimensional de entrada\n",
    "    n : columnas\n",
    "    p: pasos hacia adelante\n",
    "\n",
    "    Returns\n",
    "    -------\n",
    "    output : ndarray\n",
    "        matriz ordenada\n",
    "        \n",
    "    Examples\n",
    "    --------\n",
    "\n",
    "    >>> strides(np.array[1,2,3,4,5,6,7,8,9,10],n,p)\n",
    "    \n",
    "    np.array([\n",
    "       [ 1,  2,  3,  4],\n",
    "       [ 3,  4,  5,  6],\n",
    "       [ 5,  6,  7,  8],\n",
    "       [ 7,  8,  9, 10]\n",
    "    ])\n",
    "    \"\"\"\n",
    "\n",
    "\n",
    "    A1=np.array([])   #creo array vacio para agregar datos \n",
    "    cont=0\n",
    "    for i in range(0,a.shape[0],p):   #\n",
    "        if p % 2 == 0:   #separación si el paso es par o impar\n",
    "            if i < a[-n+1]:  \n",
    "                 \n",
    "                A1=np.r_[A1,a[i:i+n]] #voy agregando elementos para cada columna y paso considerados\n",
    "                cont+=1\n",
    "        else:\n",
    "            break\n",
    "    else:\n",
    "         if i < a[-n]:\n",
    "                \n",
    "                A1=np.r_[A1,a[i:i+n]]   #se repite el proceso para caso impar\n",
    "                \n",
    "    return np.reshape(A1,(cont,n))"
   ]
  },
  {
   "cell_type": "markdown",
   "metadata": {},
   "source": [
    "### Verificar ejemplos"
   ]
  },
  {
   "cell_type": "code",
   "execution_count": 233,
   "metadata": {},
   "outputs": [],
   "source": [
    "# ejemplo 01\n",
    "a = np.array([ 1,  2,  3,  4,  5,  6,  7,  8,  9, 10])\n",
    "n=4\n",
    "p=2\n",
    "\n",
    "np.testing.assert_array_equal(\n",
    "    strides(a,n,p),\n",
    "    np.array([\n",
    "       [ 1,  2,  3,  4],\n",
    "       [ 3,  4,  5,  6],\n",
    "       [ 5,  6,  7,  8],\n",
    "       [ 7,  8,  9, 10]\n",
    "    ])\n",
    ")"
   ]
  },
  {
   "cell_type": "markdown",
   "metadata": {},
   "source": [
    "<a id='p3'></a>\n",
    "\n",
    "## Problema 03\n",
    "\n",
    "\n",
    "Un **cuadrado mágico** es una matriz de tamaño $n \\times n$ de números enteros positivos tal que \n",
    "la suma de los números por columnas, filas y diagonales principales sea la misma. Usualmente, los números empleados para rellenar las casillas son consecutivos, de 1 a $n^2$, siendo $n$ el número de columnas y filas del cuadrado mágico.\n",
    "\n",
    "Si los números son consecutivos de 1 a $n^2$, la suma de los números por columnas, filas y diagonales principales \n",
    "es igual a : $$\\displaystyle M_{n} = \\dfrac{n(n^2+1)}{2}$$\n",
    "Por ejemplo, \n",
    "\n",
    "* $A= \\begin{pmatrix}\n",
    " 4& 9 &2 \\\\ \n",
    " 3&  5&7 \\\\ \n",
    " 8& 1 &6 \n",
    "\\end{pmatrix}$,\n",
    "es un cuadrado mágico.\n",
    "\n",
    "* $B= \\begin{pmatrix}\n",
    " 4& 2 &9 \\\\ \n",
    " 3&  5&7 \\\\ \n",
    " 8& 1 &6 \n",
    "\\end{pmatrix}$, no es un cuadrado mágico.\n",
    "\n",
    "Implemente una función llamada `es_cudrado_magico` cuyo input sea una matriz cuadrada de tamaño $n$ con números consecutivos de $1$ a $n^2$ y cuyo ouput retorne *True* si es un cuadrado mágico o 'False', en caso contrario\n",
    "\n",
    "* **Ejemplo**: *es_cudrado_magico($A$)* = True, *es_cudrado_magico($B$)* = False\n",
    "\n",
    "**Hint**: Cree una función que valide la mariz es cuadrada y  que sus números son consecutivos del 1 a $n^2$."
   ]
  },
  {
   "cell_type": "markdown",
   "metadata": {},
   "source": [
    "### Definir Función"
   ]
  },
  {
   "cell_type": "code",
   "execution_count": 234,
   "metadata": {},
   "outputs": [],
   "source": [
    "\n",
    "\n",
    "def es_cuadrado_magico(A):\n",
    "    \n",
    "    \"\"\"\n",
    "    es_cuadado_magico(A)\n",
    "    Un cuadrado mágico es una matriz de tamaño  𝑛×𝑛  de números enteros positivos tal que la suma de los números por columnas, \n",
    "    filas y diagonales principales sea la misma. Usualmente, los números empleados para rellenar\n",
    "    las casillas son consecutivos, de 1 a  𝑛2 , siendo  𝑛  el número de columnas y filas del cuadrado mágico.\n",
    "    \n",
    "    Parametros\n",
    "    \n",
    "    ----------\n",
    "    A: arreglo con datos de entrada\n",
    "\n",
    "\n",
    "    Returns\n",
    "    -------\n",
    "    output : bool\n",
    "        retorna si la matriz de entrada es un cuadrado mágico o no.\n",
    "        \n",
    "    Examples\n",
    "    --------\n",
    "\n",
    "\n",
    "\n",
    "\n",
    "    >>> \n",
    "    \n",
    "    \"\"\"\n",
    "      \n",
    "    \n",
    "    if A.shape[0] != A.shape[1]:#verificar que número de columna sea igual a número de filas\n",
    "        return False\n",
    "    else:\n",
    "        if (np.sum(A,axis=0) != np.sum(A, axis=1)).all():#verificar que suma de columnas y filas sea igual\n",
    "            return False\n",
    "        else:\n",
    "            suma_diagonal_principal= 0\n",
    "            suma_diagonal_secundaria=0\n",
    "            for i in range(A.shape[0]):\n",
    "                    suma_diagonal_principal+=A[i][i]\n",
    "                    suma_diagonal_secundaria+=A[i][A.shape[0]-i-1]\n",
    "            if suma_diagonal_principal!=suma_diagonal_secundaria:    #verificar si suma de diagonales principales son iguales\n",
    "                return False\n",
    "            else:\n",
    "                return True \n",
    "\n",
    "#NO SE VERIFICA LA OPCIÓN DE NUMEROS CONSECUTIVOS, YA QUE CUMPLIENDO LAS CONDICIONES DE CUADRADO MÁGICO NO ES NECESARIO RECURRIR\n",
    "#A LA RECETA QUE SE INDICA. EL TÉRMINO \"USUALMENTE\", NO SIGNIFICA NECESARIAMENTE QUE SE CUMPLE EN TODOS LOS CASOS POR LO QUE NO\n",
    "#CREO NECESARIO ANALIZAR SI CUMPLE LAS OTRAS CONDICIONES.\n",
    "        \n"
   ]
  },
  {
   "cell_type": "markdown",
   "metadata": {},
   "source": [
    "### Verificar ejemplos"
   ]
  },
  {
   "cell_type": "code",
   "execution_count": 235,
   "metadata": {},
   "outputs": [],
   "source": [
    "# ejemplo 01\n",
    "A = np.array([[4,9,2],[3,5,7],[8,1,6]])\n",
    "assert es_cuadrado_magico(A) == True, \"ejemplo 01 incorrecto\""
   ]
  },
  {
   "cell_type": "code",
   "execution_count": 236,
   "metadata": {},
   "outputs": [],
   "source": [
    "# ejemplo 02\n",
    "B = np.array([[4,2,9],[3,5,7],[8,1,6]])\n",
    "assert es_cuadrado_magico(B) == False, \"ejemplo 02 incorrecto\""
   ]
  }
 ],
 "metadata": {
  "kernelspec": {
   "display_name": "Python 3",
   "language": "python",
   "name": "python3"
  },
  "language_info": {
   "codemirror_mode": {
    "name": "ipython",
    "version": 3
   },
   "file_extension": ".py",
   "mimetype": "text/x-python",
   "name": "python",
   "nbconvert_exporter": "python",
   "pygments_lexer": "ipython3",
   "version": "3.8.3"
  }
 },
 "nbformat": 4,
 "nbformat_minor": 4
}
